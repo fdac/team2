{
 "metadata": {
  "name": "",
  "signature": "sha256:825c7c42857364b6f940b43c2b99fc15a95c42afd17e2ddc24b2a2ba284bfcdd"
 },
 "nbformat": 3,
 "nbformat_minor": 0,
 "worksheets": [
  {
   "cells": [
    {
     "cell_type": "markdown",
     "metadata": {},
     "source": [
      "#Project 1: Discover BitBucket code repositories\n",
      "\n",
      "## Context\n",
      "You work for a cloud application provider DeveloperParadise that needs to convince its investors \n",
      "that their business has a bright future.\n",
      "\n",
      "Your task is to show that the number of customers (users of DeveloperParadise, which happens to \n",
      "compete with Atlassian's BitBucket) is comparable to that of  BitBucket. The presentation for investors \n",
      "is next week (completely incidentally, exactly on the day this project is due). \n",
      "\n",
      "Feel free to use examples below or any other information you can gather to obtain as complete as possible list of \n",
      "users and repositories hosted on BitBucket.\n",
      "\n",
      "While a template for the search strategy is provided, feel free to use any means (including borrowing with attribution from the other teams) to get as many as you can within this very short but, unfortunately, very realistic time frame.  \n",
      "\n",
      "\n",
      "## Important Notes\n",
      "\n",
      "Please keep in mind operational data pitfalls, such as \n",
      "   * lack of context \n",
      "   * missing data\n",
      "   * possibly incorrect data\n",
      "\n",
      "1. DeveloperParadise may focus on specific types of customers (e.g., size, programming language, or other characteristics), and that number is a subset of all customers. \n",
      " * Pick the desired characteristics of target customers for DeveloperParadise and estimate their percentage is in your retrieved set\n",
      "1. Is there any way to estimate what fraction of all BitBucket customers/repositories are in the retrieved set?\n",
      "1. Is the distribution of different types of customers the same in the retrieved and undiscovered sets of BitBucket customers? "
     ]
    },
    {
     "cell_type": "markdown",
     "metadata": {},
     "source": [
      "### Let's practice scanning through all public BitBucket repos (we can't concern ourselves with private repos as we can't get the data necessary to analyze them)\n",
      "\n",
      "* Utilize BitBucket's REST API to crawl through all public repos.\n",
      "\n",
      "Once you understand the technique, simply scan through and for each repo make some cool calculations (or don't)..."
     ]
    },
    {
     "cell_type": "code",
     "collapsed": false,
     "input": [
      "import requests, json, sys, time, re, BeautifulSoup\n",
      "\n",
      "# grab a url (contains roughly 10 repos) and process it\n",
      "def get_repos(url, count):\n",
      "    # get the url data (a json file) and put it in a dictionary\n",
      "    r = requests.get(url)\n",
      "    t = r.text\n",
      "    data = json.loads(t)\n",
      "    \n",
      "    # do something for each repo\n",
      "    for repo in data['values']:\n",
      "        # print repo['owner']['username'] + ' : ' + repo['name']\n",
      "        count += 1\n",
      "    \n",
      "    # grab the next page of repos (if it exists, done otherwise)\n",
      "    try:\n",
      "        return count\n",
      "        # get_repos(data['next'], count)\n",
      "    except KeyError:\n",
      "        return count\n",
      "        # pass\n",
      "\n",
      "# driver for the example\n",
      "URL = 'https://bitbucket.org/api/2.0/repositories/'\n",
      "count = 0\n",
      "count = get_repos(URL, count)\n",
      "print count"
     ],
     "language": "python",
     "metadata": {},
     "outputs": [
      {
       "output_type": "stream",
       "stream": "stdout",
       "text": [
        "10\n"
       ]
      }
     ],
     "prompt_number": 17
    },
    {
     "cell_type": "code",
     "collapsed": false,
     "input": [],
     "language": "python",
     "metadata": {},
     "outputs": []
    }
   ],
   "metadata": {}
  }
 ]
}