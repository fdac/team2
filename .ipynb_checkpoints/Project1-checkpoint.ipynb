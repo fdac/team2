{
 "metadata": {
  "name": "",
  "signature": "sha256:fdf87fc26b07e017f4fb1aab9c559e611e5d2005c33e136ee8d5e3c4618aaedb"
 },
 "nbformat": 3,
 "nbformat_minor": 0,
 "worksheets": [
  {
   "cells": [
    {
     "cell_type": "markdown",
     "metadata": {},
     "source": [
      "#Project 1: Discover BitBucket code repositories\n",
      "\n",
      "## Context\n",
      "You work for a cloud application provider DeveloperParadise that needs to convince its investors \n",
      "that their business has a bright future.\n",
      "\n",
      "Your task is to show that the number of customers (users of DeveloperParadise, which happens to \n",
      "compete with Atlassian's BitBucket) is comparable to that of  BitBucket. The presentation for investors \n",
      "is next week (completely incidentally, exactly on the day this project is due). \n",
      "\n",
      "Feel free to use examples below or any other information you can gather to obtain as complete as possible list of \n",
      "users and repositories hosted on BitBucket.\n",
      "\n",
      "While a template for the search strategy is provided, feel free to use any means (including borrowing with attribution from the other teams) to get as many as you can within this very short but, unfortunately, very realistic time frame.  \n",
      "\n",
      "\n",
      "## Important Notes\n",
      "\n",
      "Please keep in mind operational data pitfalls, such as \n",
      "   * lack of context \n",
      "   * missing data\n",
      "   * possibly incorrect data\n",
      "\n",
      "1. DeveloperParadise may focus on specific types of customers (e.g., size, programming language, or other characteristics), and that number is a subset of all customers. \n",
      " * Pick the desired characteristics of target customers for DeveloperParadise and estimate their percentage is in your retrieved set\n",
      "1. Is there any way to estimate what fraction of all BitBucket customers/repositories are in the retrieved set?\n",
      "1. Is the distribution of different types of customers the same in the retrieved and undiscovered sets of BitBucket customers? "
     ]
    },
    {
     "cell_type": "markdown",
     "metadata": {},
     "source": [
      "### Let's practice scanning through all public BitBucket repos (we can't concern ourselves with private repos as we can't get the data necessary to analyze them)\n",
      "\n",
      "* Utilize BitBucket's REST API to crawl through all public repos.\n",
      "\n",
      "Once you understand the technique, simply scan through and for each repo make some cool calculations (or don't)..."
     ]
    },
    {
     "cell_type": "code",
     "collapsed": false,
     "input": [
      "import requests, json, sys, time, re, BeautifulSoup\n",
      "\n",
      "'''\n",
      "def process_commits(url):\n",
      "    print url\n",
      "    r = requests.get(url)\n",
      "    t = r.text\n",
      "    data = json.loads(t)\n",
      "    \n",
      "    try:\n",
      "        data['error']\n",
      "        return\n",
      "    except KeyError:\n",
      "        pass\n",
      "    \n",
      "    for commit in data['values']:\n",
      "        #print commit['author']['user']['username']\n",
      "        pass\n",
      "    \n",
      "    try:\n",
      "        print data['next']\n",
      "        #process_commits(data['next'])\n",
      "    except KeyError:\n",
      "        return\n",
      "'''\n",
      "\n",
      "# grab a url (contains roughly 10 repos) and process it\n",
      "def process_repos(url):\n",
      "    user_info = {}\n",
      "    \n",
      "    # get the url data (a json file) and put it in a dictionary\n",
      "    r = requests.get(url)\n",
      "    t = r.text\n",
      "    data = json.loads(t)\n",
      "    \n",
      "    while True:\n",
      "        # do something for each repo\n",
      "        for repo in data['values']:\n",
      "            if not ('html_css' in repo['language']\n",
      "                    or 'javascript' in repo['language']):\n",
      "                continue\n",
      "        \n",
      "            # 2**29 ~ 500 MB\n",
      "            if repo['size'] < 2**29:\n",
      "                continue\n",
      "        \n",
      "            username = repo['owner']['username']\n",
      "            reponame = repo['name']\n",
      "        \n",
      "            try:\n",
      "                user_info[username]['count'] += 1\n",
      "            except KeyError:\n",
      "                user_info[username] = {}\n",
      "                user_info[username]['count'] = 1\n",
      "    \n",
      "        # grab the next page of repos (if it exists, done otherwise)\n",
      "        try:\n",
      "            r = requests.get(data['next'])\n",
      "            t = r.text\n",
      "            data = json.loads(t)\n",
      "        except KeyError:\n",
      "            return user_info\n",
      "\n",
      "# driver for the example\n",
      "URL = 'https://bitbucket.org/api/2.0/repositories/'\n",
      "user_info = process_repos(URL)\n",
      "print user_info"
     ],
     "language": "python",
     "metadata": {},
     "outputs": [
      {
       "output_type": "stream",
       "stream": "stdout",
       "text": [
        "{u'jnissinen': {'count': 1}, u'Werring': {'count': 1}, u'jetthoughts': {'count': 1}, u'Laura_laur27': {'count': 1}, u'adriaan_pelzer': {'count': 1}, u'sczhengyabin': {'count': 1}, u'chanika_prabashini': {'count': 1}, u'phillipburch': {'count': 1}, u'YePpHa': {'count': 1}, u'gipong': {'count': 1}, u'gitCHS': {'count': 1}, u'barradev': {'count': 1}, u'ap_o': {'count': 1}, u'xnatx': {'count': 1}, u'jake_arvizu': {'count': 1}}\n"
       ]
      }
     ],
     "prompt_number": 33
    },
    {
     "cell_type": "code",
     "collapsed": false,
     "input": [],
     "language": "python",
     "metadata": {},
     "outputs": []
    }
   ],
   "metadata": {}
  }
 ]
}