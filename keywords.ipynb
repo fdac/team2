{
 "metadata": {
  "name": "",
  "signature": "sha256:2c6bd7257a68d6b9db6661b3324074c270ab6ad3f475695a73f145ab2a722cce"
 },
 "nbformat": 3,
 "nbformat_minor": 0,
 "worksheets": [
  {
   "cells": [
    {
     "cell_type": "markdown",
     "metadata": {},
     "source": [
      "#Project 1: Discover BitBucket code repositories\n",
      "\n",
      "## Context\n",
      "You work for a cloud application provider DeveloperParadise that needs to convince its investors \n",
      "that their business has a bright future.\n",
      "\n",
      "Your task is to show that the number of customers (users of DeveloperParadise, which happens to \n",
      "compete with Atlassian's BitBucket) is comparable to that of  BitBucket. The presentation for investors \n",
      "is next week (completely incidentally, exactly on the day this project is due). \n",
      "\n",
      "Feel free to use examples below or any other information you can gather to obtain as complete as possible list of \n",
      "users and repositories hosted on BitBucket.\n",
      "\n",
      "While a template for the search strategy is provided, feel free to use any means (including borrowing with attribution from the other teams) to get as many as you can within this very short but, unfortunately, very realistic time frame.  \n",
      "\n",
      "\n",
      "## Important Notes\n",
      "\n",
      "Please keep in mind operational data pitfalls, such as \n",
      "   * lack of context \n",
      "   * missing data\n",
      "   * possibly incorrect data\n",
      "\n",
      "1. DeveloperParadise may focus on specific types of customers (e.g., size, programming language, or other characteristics), and that number is a subset of all customers. \n",
      " * Pick the desired characteristics of target customers for DeveloperParadise and estimate their percentage is in your retrieved set\n",
      "1. Is there any way to estimate what fraction of all BitBucket customers/repositories are in the retrieved set?\n",
      "1. Is the distribution of different types of customers the same in the retrieved and undiscovered sets of BitBucket customers? "
     ]
    },
    {
     "cell_type": "markdown",
     "metadata": {},
     "source": [
      "### Example 1. Search for a keyword 'test'\n",
      "\n",
      "* Unfortunately, BitBucket does not have a documented search API\n",
      "\n",
      "So feel free to experiment with an undocumented search API below that appears to \n",
      "yeld some results, though it is not clear how complete they are and \n",
      "how exactly the results are provided by BitBucket.  You don't need to \n",
      "follow the search strategy outlined below, it is just one of many possible approaches.  "
     ]
    },
    {
     "cell_type": "code",
     "collapsed": false,
     "input": [
      "import requests, json, sys, time, re, BeautifulSoup\n",
      "\n",
      "#npage = 0\n",
      "# count = 0\n",
      "def Statistics(key, language, URL, npage):\n",
      "  np = unicode(npage)   #np is a character\n",
      "  global count\n",
      "  global npages\n",
      "    \n",
      "  if npage == 1:\n",
      "    if language == 'none':\n",
      "      URL1 =  URL + '?name=' + key\n",
      "    else:\n",
      "      URL1 = URL + '?name=' + key + '&language=' + language\n",
      "    start = 0\n",
      "    npages = 1\n",
      "    start = 0\n",
      "    count = 0\n",
      "    #print URL1\n",
      "  else:\n",
      "    if language == 'none':\n",
      "      URL1 =  URL + '/' + np + '?name=' + key\n",
      "    else:\n",
      "      URL1 = URL + '/' + np + '?name=' + key + '&language=' + language\n",
      "    start = 3\n",
      "    #print URL1\n",
      "    \n",
      "  r = requests .get(URL1)\n",
      "  t = r.text\n",
      "  soup = BeautifulSoup.BeautifulSoup(t)\n",
      "    \n",
      "  for link in soup.findAll('a'):\n",
      "    if (start == 3): continue\n",
      "    s = link.get('href')\n",
      "    if (start == 0):\n",
      "        if ('/account/signin/?next' in s):\n",
      "            start = 1\n",
      "            continue\n",
      "        else:\n",
      "            continue   \n",
      "    if  s == '#': continue \n",
      "        \n",
      "    # This is the way the remaining pages in the search results are marked\n",
      "    m = re.search(r'^/repo/all/(\\d*)\\?', s)\n",
      "    if  m:\n",
      "        start = 2\n",
      "        #get max num\n",
      "        i = m.group(1)\n",
      "        \n",
      "        if (int(i) > npages): npages = int(i)\n",
      "        #print npages  \n",
      "    else:\n",
      "        if (start == 2): \n",
      "            start = 3\n",
      "            continue\n",
      "        # Print the repo urls\n",
      "        #print s\n",
      "        count = count + 1\n",
      "  #count = count/3\n",
      "  #print \"Number of repo for page \" + np + \": \" + str(count)\n",
      "  return (count, npages)\n",
      "  \n",
      " "
     ],
     "language": "python",
     "metadata": {},
     "outputs": [],
     "prompt_number": 38
    },
    {
     "cell_type": "code",
     "collapsed": false,
     "input": [
      "# Main\n",
      "# Github's top 10 most popular projects\n",
      "# http://www.computerworld.com/article/2473298/application-development/120001-GitHub-s-top-10-rock-star-projects.html\n",
      "list1 = ['Bootstrap', 'Node.js','JQuery', 'HTML5 Boilerplate', 'Ruby on Rails', \n",
      "         'D3', 'Impress.js', 'Font Awesome', 'Backbone.js', 'omebrew']\n",
      "# list1 = ['Bootstrap', 'Node.js','JQuery']\n",
      "#key = 'test'\n",
      "language = 'none'\n",
      "URL = 'https://bitbucket.org/repo/all'\n",
      "\n",
      "global count\n",
      "global npages\n"
     ],
     "language": "python",
     "metadata": {},
     "outputs": [],
     "prompt_number": 49
    },
    {
     "cell_type": "code",
     "collapsed": false,
     "input": [
      "print '{0:15} {1:10}'.format('key', '    numRepo')\n",
      "for key in list1:\n",
      "    npage = 1\n",
      "    count = 0\n",
      "    npages = 1\n",
      "    totalcount = 0\n",
      "    # Get the number of pages and count for first page\n",
      "    Statistics(key, language, URL, npage)\n",
      "    totalcount = count\n",
      "    \n",
      "    for npage in range (2,npages+1):\n",
      "        Statistics(key, language, URL, npage)\n",
      "        totalcount += count\n",
      "    \n",
      "    totalcount = totalcount/3\n",
      "    #print \"npages \" + str(npages) \n",
      "    #print key + str(totalcount)\n",
      "    print '{0:15} {1:10d}'.format(key, totalcount)\n"
     ],
     "language": "python",
     "metadata": {},
     "outputs": []
    },
    {
     "cell_type": "heading",
     "level": 2,
     "metadata": {},
     "source": [
      "Task 1A: Retrieve and store links from all pages"
     ]
    },
    {
     "cell_type": "heading",
     "level": 2,
     "metadata": {},
     "source": [
      "Task 1B: Try several keywords, what keywords yield the largest number of repositories?"
     ]
    },
    {
     "cell_type": "code",
     "collapsed": false,
     "input": [],
     "language": "python",
     "metadata": {},
     "outputs": []
    },
    {
     "cell_type": "code",
     "collapsed": false,
     "input": [],
     "language": "python",
     "metadata": {},
     "outputs": []
    }
   ],
   "metadata": {}
  }
 ]
}